{
 "cells": [
  {
   "cell_type": "code",
   "execution_count": 1,
   "id": "0cb7ad9b-2dd5-42ef-93fc-aa7e2d5be25b",
   "metadata": {},
   "outputs": [
    {
     "data": {
      "text/plain": [
       "'/Users/shinyuri'"
      ]
     },
     "execution_count": 1,
     "metadata": {},
     "output_type": "execute_result"
    }
   ],
   "source": [
    "# 실습 파일 경로 확인\n",
    "%pwd"
   ]
  },
  {
   "cell_type": "code",
   "execution_count": 2,
   "id": "4b5b8744-c4db-452f-ada0-ca7243c557dc",
   "metadata": {},
   "outputs": [
    {
     "data": {
      "text/plain": [
       "'/Users/shinyuri'"
      ]
     },
     "execution_count": 2,
     "metadata": {},
     "output_type": "execute_result"
    }
   ],
   "source": [
    "import os\n",
    "os.getcwd()"
   ]
  },
  {
   "cell_type": "code",
   "execution_count": 3,
   "id": "d2494632-b62b-47e9-8347-be2e9221ef30",
   "metadata": {},
   "outputs": [],
   "source": [
    "# pd.read_csv('data'/그거 알지 tabtab하면 불려지는거)"
   ]
  },
  {
   "cell_type": "code",
   "execution_count": null,
   "id": "80b604a3-44d3-475d-ba55-8d43407b3d4a",
   "metadata": {},
   "outputs": [],
   "source": []
  }
 ],
 "metadata": {
  "kernelspec": {
   "display_name": "Python 3 (ipykernel)",
   "language": "python",
   "name": "python3"
  },
  "language_info": {
   "codemirror_mode": {
    "name": "ipython",
    "version": 3
   },
   "file_extension": ".py",
   "mimetype": "text/x-python",
   "name": "python",
   "nbconvert_exporter": "python",
   "pygments_lexer": "ipython3",
   "version": "3.11.8"
  }
 },
 "nbformat": 4,
 "nbformat_minor": 5
}
