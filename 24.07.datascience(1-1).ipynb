{
 "cells": [
  {
   "cell_type": "code",
   "execution_count": 1,
   "id": "b44a6482-42ba-4e0e-9baf-58c2c096423f",
   "metadata": {},
   "outputs": [
    {
     "data": {
      "text/plain": [
       "True"
      ]
     },
     "execution_count": 1,
     "metadata": {},
     "output_type": "execute_result"
    }
   ],
   "source": [
    "## True는 문자 1과는 다르다. 1을 따옴표로 감싸면 문자열이 된다\n",
    "True != '1'"
   ]
  },
  {
   "cell_type": "code",
   "execution_count": 3,
   "id": "e797d0f1-03b5-47a0-b513-6519bad0a39c",
   "metadata": {},
   "outputs": [
    {
     "data": {
      "text/plain": [
       "True"
      ]
     },
     "execution_count": 3,
     "metadata": {},
     "output_type": "execute_result"
    }
   ],
   "source": [
    "## False 도 마찬가지\n",
    "False != '0'"
   ]
  },
  {
   "cell_type": "code",
   "execution_count": 4,
   "id": "3877066c-63dd-47b0-bb25-24752733eeb6",
   "metadata": {},
   "outputs": [
    {
     "data": {
      "text/plain": [
       "True"
      ]
     },
     "execution_count": 4,
     "metadata": {},
     "output_type": "execute_result"
    }
   ],
   "source": [
    "True and True"
   ]
  },
  {
   "cell_type": "code",
   "execution_count": 5,
   "id": "09e955fd-9778-479f-b08a-8fc3bd79d5ab",
   "metadata": {},
   "outputs": [
    {
     "data": {
      "text/plain": [
       "False"
      ]
     },
     "execution_count": 5,
     "metadata": {},
     "output_type": "execute_result"
    }
   ],
   "source": [
    "True and False"
   ]
  },
  {
   "cell_type": "code",
   "execution_count": 6,
   "id": "c5c62cba-55a2-4bfa-9804-1ecd20b77ce9",
   "metadata": {},
   "outputs": [
    {
     "data": {
      "text/plain": [
       "True"
      ]
     },
     "execution_count": 6,
     "metadata": {},
     "output_type": "execute_result"
    }
   ],
   "source": [
    "True or False"
   ]
  },
  {
   "cell_type": "code",
   "execution_count": null,
   "id": "85674250-6265-4dd1-bf6f-17f73ee29e0f",
   "metadata": {},
   "outputs": [],
   "source": []
  },
  {
   "cell_type": "code",
   "execution_count": 7,
   "id": "032a2abb-14ee-47c2-ab9d-90393250090c",
   "metadata": {},
   "outputs": [
    {
     "data": {
      "text/plain": [
       "1"
      ]
     },
     "execution_count": 7,
     "metadata": {},
     "output_type": "execute_result"
    }
   ],
   "source": [
    "1"
   ]
  },
  {
   "cell_type": "code",
   "execution_count": 8,
   "id": "1e4599bf-26c2-4944-aba5-a59eb38bee03",
   "metadata": {},
   "outputs": [
    {
     "data": {
      "text/plain": [
       "'1'"
      ]
     },
     "execution_count": 8,
     "metadata": {},
     "output_type": "execute_result"
    }
   ],
   "source": [
    "'1'"
   ]
  },
  {
   "cell_type": "code",
   "execution_count": 9,
   "id": "bc62a003-ee7d-400e-8e7d-d6c32adce671",
   "metadata": {},
   "outputs": [
    {
     "data": {
      "text/plain": [
       "int"
      ]
     },
     "execution_count": 9,
     "metadata": {},
     "output_type": "execute_result"
    }
   ],
   "source": [
    "type(1)"
   ]
  },
  {
   "cell_type": "code",
   "execution_count": 10,
   "id": "bb49984c-5f8c-423d-97ec-dbb723fca940",
   "metadata": {},
   "outputs": [
    {
     "data": {
      "text/plain": [
       "str"
      ]
     },
     "execution_count": 10,
     "metadata": {},
     "output_type": "execute_result"
    }
   ],
   "source": [
    "## 문자 1의 데이터 타입\n",
    "type('1')"
   ]
  },
  {
   "cell_type": "code",
   "execution_count": 11,
   "id": "7b248049-84ae-4257-92bf-a399f3ca22f5",
   "metadata": {},
   "outputs": [
    {
     "data": {
      "text/plain": [
       "False"
      ]
     },
     "execution_count": 11,
     "metadata": {},
     "output_type": "execute_result"
    }
   ],
   "source": [
    "# 문자 1과 숫자 1 비교\n",
    "1 =='1'"
   ]
  },
  {
   "cell_type": "markdown",
   "id": "c8bee32d-759b-48e0-b0fe-8a2c94c55077",
   "metadata": {},
   "source": [
    "# strings and lists"
   ]
  },
  {
   "cell_type": "code",
   "execution_count": 12,
   "id": "c1fd9651-6187-4a70-a73a-a4e7c15ac510",
   "metadata": {},
   "outputs": [
    {
     "data": {
      "text/plain": [
       "'Hello World'"
      ]
     },
     "execution_count": 12,
     "metadata": {},
     "output_type": "execute_result"
    }
   ],
   "source": [
    "'Hello World'"
   ]
  },
  {
   "cell_type": "code",
   "execution_count": 13,
   "id": "cc4c3f41-160f-4f4b-b0ea-65adf6d4bddc",
   "metadata": {},
   "outputs": [
    {
     "data": {
      "text/plain": [
       "'경기도 성남시 분당구'"
      ]
     },
     "execution_count": 13,
     "metadata": {},
     "output_type": "execute_result"
    }
   ],
   "source": [
    "'경기도 성남시 분당구'"
   ]
  },
  {
   "cell_type": "code",
   "execution_count": 14,
   "id": "912462b4-b2cf-4cd7-8db3-3cfc401548b5",
   "metadata": {},
   "outputs": [
    {
     "data": {
      "text/plain": [
       "'Today I Learned'"
      ]
     },
     "execution_count": 14,
     "metadata": {},
     "output_type": "execute_result"
    }
   ],
   "source": [
    "# til 이라는 변수에 문자\b열을 담아본다\n",
    "til = 'Today I Learned'\n",
    "til"
   ]
  },
  {
   "cell_type": "code",
   "execution_count": 16,
   "id": "4b7b2a9e-9fc1-4e27-88c9-51fb552dcd3f",
   "metadata": {},
   "outputs": [
    {
     "data": {
      "text/plain": [
       "'today i learned'"
      ]
     },
     "execution_count": 16,
     "metadata": {},
     "output_type": "execute_result"
    }
   ],
   "source": [
    "# 모두 소문자로\n",
    "til.lower()"
   ]
  },
  {
   "cell_type": "code",
   "execution_count": 18,
   "id": "1c73c160-65e3-4b52-a14f-85c048f1457e",
   "metadata": {},
   "outputs": [
    {
     "data": {
      "text/plain": [
       "'TODAY I LEARNED'"
      ]
     },
     "execution_count": 18,
     "metadata": {},
     "output_type": "execute_result"
    }
   ],
   "source": [
    "# 모두 대문자로\n",
    "til.upper()"
   ]
  },
  {
   "cell_type": "code",
   "execution_count": null,
   "id": "e0be5fdb-4021-42ee-b2bf-489b1d2345e5",
   "metadata": {},
   "outputs": [],
   "source": []
  },
  {
   "cell_type": "markdown",
   "id": "12c6df27-ea69-4687-b8fe-36641bbec576",
   "metadata": {},
   "source": [
    "# lists"
   ]
  },
  {
   "cell_type": "code",
   "execution_count": 1,
   "id": "eddc602b-3d90-4039-b041-ed8fc0192563",
   "metadata": {},
   "outputs": [],
   "source": [
    "# 비어있는 리스느를 만든다. lang 이라는 변수에 담는다.\n",
    "lang = []"
   ]
  },
  {
   "cell_type": "code",
   "execution_count": 2,
   "id": "7e49bb43-bc90-4bf1-a53d-9b0fa5696934",
   "metadata": {},
   "outputs": [
    {
     "data": {
      "text/plain": [
       "[]"
      ]
     },
     "execution_count": 2,
     "metadata": {},
     "output_type": "execute_result"
    }
   ],
   "source": [
    "lang"
   ]
  },
  {
   "cell_type": "code",
   "execution_count": 3,
   "id": "5c76641d-cb67-4271-903a-cb62ae6f4821",
   "metadata": {},
   "outputs": [],
   "source": [
    "lang.append('python')\n",
    "lang.append('java')\n",
    "lang.append('c')\n"
   ]
  },
  {
   "cell_type": "code",
   "execution_count": 4,
   "id": "512ce418-d350-4b39-a18c-6f83b2934eec",
   "metadata": {},
   "outputs": [
    {
     "data": {
      "text/plain": [
       "['python', 'java', 'c']"
      ]
     },
     "execution_count": 4,
     "metadata": {},
     "output_type": "execute_result"
    }
   ],
   "source": [
    "lang"
   ]
  },
  {
   "cell_type": "code",
   "execution_count": 5,
   "id": "4c499398-526c-40a9-8927-ae123b2763b7",
   "metadata": {},
   "outputs": [
    {
     "data": {
      "text/plain": [
       "'python'"
      ]
     },
     "execution_count": 5,
     "metadata": {},
     "output_type": "execute_result"
    }
   ],
   "source": [
    "# lang 이라는 변수에 담겨있는 언어명을 인덱싱을 통해 가져온다\n",
    "lang[0]"
   ]
  },
  {
   "cell_type": "code",
   "execution_count": 6,
   "id": "8225d3d0-6ac3-449d-9dda-0e1e03ac1eca",
   "metadata": {},
   "outputs": [
    {
     "data": {
      "text/plain": [
       "'java'"
      ]
     },
     "execution_count": 6,
     "metadata": {},
     "output_type": "execute_result"
    }
   ],
   "source": [
    "lang[1]"
   ]
  },
  {
   "cell_type": "code",
   "execution_count": 7,
   "id": "f9366031-d59f-4316-90e4-113dbc1addd0",
   "metadata": {},
   "outputs": [
    {
     "data": {
      "text/plain": [
       "'c'"
      ]
     },
     "execution_count": 7,
     "metadata": {},
     "output_type": "execute_result"
    }
   ],
   "source": [
    "lang[-1]  ## 가장 마지막 인덱스"
   ]
  },
  {
   "cell_type": "code",
   "execution_count": null,
   "id": "a789e317-32ea-4613-ad18-0aeff2d504eb",
   "metadata": {},
   "outputs": [],
   "source": []
  },
  {
   "cell_type": "markdown",
   "id": "3ea7e3b2-b187-4c67-8b70-15f0d4466ba0",
   "metadata": {},
   "source": [
    "# control flow"
   ]
  },
  {
   "cell_type": "code",
   "execution_count": 9,
   "id": "c26c4932-ce1c-4556-87cc-933b9f3b0eb5",
   "metadata": {},
   "outputs": [
    {
     "name": "stdout",
     "output_type": "stream",
     "text": [
      "python\n",
      "java\n",
      "c\n"
     ]
    }
   ],
   "source": [
    "# 반복문을 통해 리스트의 원소를 하나씩 출력\n",
    "for i in lang :\n",
    "    print(i)"
   ]
  },
  {
   "cell_type": "code",
   "execution_count": 10,
   "id": "3d7ee9c5-650b-4db8-a97e-a4a5fb7939ca",
   "metadata": {},
   "outputs": [
    {
     "name": "stdout",
     "output_type": "stream",
     "text": [
      "python\n",
      "기타\n",
      "기타\n"
     ]
    }
   ],
   "source": [
    "# 위 코드에서 python일 때는 그대로 출력하고 나머지 텍스트는 '기타'라고 출력\n",
    "# 출력 결과가 아리의 순서로 나오도록\n",
    "# python\n",
    "# 기타\n",
    "# 기타\n",
    "for i in lang:\n",
    "    if i == 'python' :\n",
    "        print('python')\n",
    "    else :\n",
    "        print('기타')\n",
    "    "
   ]
  },
  {
   "cell_type": "code",
   "execution_count": 11,
   "id": "498b2243-9344-41fa-b4b2-ef649c1e6b02",
   "metadata": {},
   "outputs": [
    {
     "name": "stdout",
     "output_type": "stream",
     "text": [
      "0\n",
      "1\n",
      "2\n",
      "3\n",
      "4\n"
     ]
    }
   ],
   "source": [
    "# 특정 횟수만큼 반복문을 실행하도록 한다\n",
    "for i in range(5) :\n",
    "    print(i)"
   ]
  },
  {
   "cell_type": "code",
   "execution_count": 12,
   "id": "bade14dd-4a18-4a13-aa21-c7ad0a4af2c8",
   "metadata": {},
   "outputs": [
    {
     "name": "stdout",
     "output_type": "stream",
     "text": [
      "python\n",
      "java\n",
      "c\n"
     ]
    }
   ],
   "source": [
    "for i in range(3) :\n",
    "    print(lang[i])"
   ]
  },
  {
   "cell_type": "code",
   "execution_count": 13,
   "id": "a40d853d-299f-4b07-956c-e2da4777963a",
   "metadata": {},
   "outputs": [
    {
     "name": "stdout",
     "output_type": "stream",
     "text": [
      "python\n",
      "java\n",
      "c\n"
     ]
    }
   ],
   "source": [
    "count = len(lang)\n",
    "for i in range(count) :\n",
    "    print(lang[i])"
   ]
  },
  {
   "cell_type": "code",
   "execution_count": 16,
   "id": "f59687a9-213c-4070-9c90-dc2b8f970b13",
   "metadata": {},
   "outputs": [
    {
     "name": "stdout",
     "output_type": "stream",
     "text": [
      "java\n",
      "python\n",
      "java\n",
      "python\n",
      "java\n",
      "python\n",
      "java\n",
      "python\n",
      "java\n"
     ]
    }
   ],
   "source": [
    "# for문과 if문을 함게 사용\n",
    "# 짝수일대 python을\n",
    "# 홀수일때 java를 출력\n",
    "for i in range(1,10):\n",
    "    if i % 2 == 0 :\n",
    "        print('python')\n",
    "    else : \n",
    "        print('java')\n"
   ]
  },
  {
   "cell_type": "code",
   "execution_count": 19,
   "id": "6192e99a-51a9-4ecf-972b-d36ce5278e5b",
   "metadata": {},
   "outputs": [
    {
     "name": "stdout",
     "output_type": "stream",
     "text": [
      "0 python\n",
      "1 java\n",
      "2 c\n"
     ]
    }
   ],
   "source": [
    "#  enumerate를 사용하면 인덱스 번호와 원소를 같이 가져올 수 있다\n",
    "for i, val in enumerate(lang): \n",
    "    print(i, val)"
   ]
  },
  {
   "cell_type": "code",
   "execution_count": null,
   "id": "3e3428e9-33ea-4867-82e7-491b741a6892",
   "metadata": {},
   "outputs": [],
   "source": []
  },
  {
   "cell_type": "markdown",
   "id": "303bbfb8-ff5c-4351-83b3-485848efa7f6",
   "metadata": {},
   "source": [
    "## 문자열"
   ]
  },
  {
   "cell_type": "code",
   "execution_count": 31,
   "id": "ffb09182-6055-4e71-ab9d-abfea32ec7df",
   "metadata": {},
   "outputs": [
    {
     "data": {
      "text/plain": [
       "' 경기도 성남시 분당구 불정로 6 NAVER 그린팩토리 16층 '"
      ]
     },
     "execution_count": 31,
     "metadata": {},
     "output_type": "execute_result"
    }
   ],
   "source": [
    "# address\n",
    "address = ' 경기도 성남시 분당구 불정로 6 NAVER 그린팩토리 16층 '\n",
    "address"
   ]
  },
  {
   "cell_type": "code",
   "execution_count": 32,
   "id": "3b622fb3-70e1-4c0a-8e2a-b5827fef9b52",
   "metadata": {},
   "outputs": [
    {
     "data": {
      "text/plain": [
       "'경기도 성남시 분당구 불정로 6 NAVER 그린팩토리 16층'"
      ]
     },
     "execution_count": 32,
     "metadata": {},
     "output_type": "execute_result"
    }
   ],
   "source": [
    "# 앞뒤 공백 제거\n",
    "# 데이터 전처리시 주로 사용\n",
    "\n",
    "address.strip()\n",
    "address = address.strip()\n",
    "address"
   ]
  },
  {
   "cell_type": "code",
   "execution_count": 33,
   "id": "5d70a894-fe53-44ed-92eb-492afc048d68",
   "metadata": {},
   "outputs": [
    {
     "data": {
      "text/plain": [
       "33"
      ]
     },
     "execution_count": 33,
     "metadata": {},
     "output_type": "execute_result"
    }
   ],
   "source": [
    "# 문자열 길이\n",
    "len(address)"
   ]
  },
  {
   "cell_type": "code",
   "execution_count": 34,
   "id": "f35f3975-c0f8-411f-b042-d3a16850da4d",
   "metadata": {},
   "outputs": [
    {
     "data": {
      "text/plain": [
       "['경기도', '성남시', '분당구', '불정로', '6', 'NAVER', '그린팩토리', '16층']"
      ]
     },
     "execution_count": 34,
     "metadata": {},
     "output_type": "execute_result"
    }
   ],
   "source": [
    "# 공백으로 문자열 분리\n",
    "address.split()"
   ]
  },
  {
   "cell_type": "code",
   "execution_count": 35,
   "id": "1c8167b6-6fba-468d-8120-0bebca2ea7d7",
   "metadata": {},
   "outputs": [
    {
     "data": {
      "text/plain": [
       "['경기도 성남', ' 분당구 불정로 6 NAVER 그린팩토리 16층']"
      ]
     },
     "execution_count": 35,
     "metadata": {},
     "output_type": "execute_result"
    }
   ],
   "source": [
    "address.split('시')"
   ]
  },
  {
   "cell_type": "code",
   "execution_count": 36,
   "id": "9b940dee-f189-4a0c-8609-1a26f7618771",
   "metadata": {},
   "outputs": [
    {
     "data": {
      "text/plain": [
       "['경기도', '성남시', '분당구', '불정로', '6', 'NAVER', '그린팩토리', '16층']"
      ]
     },
     "execution_count": 36,
     "metadata": {},
     "output_type": "execute_result"
    }
   ],
   "source": [
    "address_list = address.split()\n",
    "address_list"
   ]
  },
  {
   "cell_type": "code",
   "execution_count": 37,
   "id": "cefb5000-c4be-4641-a713-adedded318ae",
   "metadata": {},
   "outputs": [
    {
     "data": {
      "text/plain": [
       "8"
      ]
     },
     "execution_count": 37,
     "metadata": {},
     "output_type": "execute_result"
    }
   ],
   "source": [
    "#리스트 길이\n",
    "len(address_list)"
   ]
  },
  {
   "cell_type": "markdown",
   "id": "747a69c1-6a5c-42b7-b674-e55ebf3ea8c1",
   "metadata": {},
   "source": [
    "* 슬라이싱, startswith, in 을 통해 문자열에 경기가 잇는지 확인"
   ]
  },
  {
   "cell_type": "code",
   "execution_count": 40,
   "id": "0dacc6e3-c3c4-41e9-a182-55d5d006d6d7",
   "metadata": {},
   "outputs": [
    {
     "data": {
      "text/plain": [
       "'경기'"
      ]
     },
     "execution_count": 40,
     "metadata": {},
     "output_type": "execute_result"
    }
   ],
   "source": [
    "# 슬라이싱으로 문자가져오기\n",
    "\n",
    "address[:2]"
   ]
  },
  {
   "cell_type": "code",
   "execution_count": 41,
   "id": "fe724974-1545-4ce8-8cf2-f63409b78aaa",
   "metadata": {},
   "outputs": [
    {
     "data": {
      "text/plain": [
       "True"
      ]
     },
     "execution_count": 41,
     "metadata": {},
     "output_type": "execute_result"
    }
   ],
   "source": [
    "# startswith를 사용하면 특정 문자가 포함되는니 여부 확인 가능\n",
    "address.startswith('경기')"
   ]
  },
  {
   "cell_type": "code",
   "execution_count": 42,
   "id": "f43c4cee-d036-4d63-b81f-c1b514643eca",
   "metadata": {},
   "outputs": [
    {
     "data": {
      "text/plain": [
       "True"
      ]
     },
     "execution_count": 42,
     "metadata": {},
     "output_type": "execute_result"
    }
   ],
   "source": [
    "# in을 사용하게 되면 특정 문자열을 포함하고 있는지 여부 확인 가능\n",
    "'경기'in address"
   ]
  },
  {
   "cell_type": "code",
   "execution_count": null,
   "id": "fb7a7bc4-4a8f-4699-ae76-e3e69706df46",
   "metadata": {},
   "outputs": [],
   "source": []
  },
  {
   "cell_type": "markdown",
   "id": "72df1470-ce35-425c-9e6d-175b53bf5fd0",
   "metadata": {},
   "source": [
    "# 리스트"
   ]
  },
  {
   "cell_type": "markdown",
   "id": "9b6e9ea8-d147-449b-8d09-772742e2ea1e",
   "metadata": {},
   "source": [
    "* 문자열에서 쓰는 방법과 비슷하게 메소드 등을 사용할 수 있다\n",
    "* 차이 비교"
   ]
  },
  {
   "cell_type": "code",
   "execution_count": 45,
   "id": "35cb0051-2b4a-4893-b6f5-168941db23df",
   "metadata": {},
   "outputs": [
    {
     "data": {
      "text/plain": [
       "'분당구'"
      ]
     },
     "execution_count": 45,
     "metadata": {},
     "output_type": "execute_result"
    }
   ],
   "source": [
    "# 인덱싱으로 리스트 원소 가져오기\n",
    "# - 주소에서 구를 가져와 gu 변수\n",
    "gu = address_list[2]\n",
    "gu"
   ]
  },
  {
   "cell_type": "code",
   "execution_count": 46,
   "id": "e94e2f4b-aa11-4fec-9894-e1a67d58db66",
   "metadata": {},
   "outputs": [
    {
     "data": {
      "text/plain": [
       "'불정로'"
      ]
     },
     "execution_count": 46,
     "metadata": {},
     "output_type": "execute_result"
    }
   ],
   "source": [
    "# 인덱싱으로 리스트 원소 가져오기\n",
    "# - 주소에서 도로명을 가져와 street 변수\n",
    "street = address_list[3]\n",
    "street"
   ]
  },
  {
   "cell_type": "code",
   "execution_count": 47,
   "id": "94d49e91-bc7c-415f-8deb-e4f352e57a28",
   "metadata": {},
   "outputs": [
    {
     "data": {
      "text/plain": [
       "'16층'"
      ]
     },
     "execution_count": 47,
     "metadata": {},
     "output_type": "execute_result"
    }
   ],
   "source": [
    "# 리스트의 마지막 가져와\n",
    "address_list[-1]"
   ]
  },
  {
   "cell_type": "code",
   "execution_count": 48,
   "id": "e7d430fb-61a5-49ed-ae7d-87f3f46f4c9c",
   "metadata": {},
   "outputs": [
    {
     "data": {
      "text/plain": [
       "'경기도성남시분당구불정로6NAVER그린팩토리16층'"
      ]
     },
     "execution_count": 48,
     "metadata": {},
     "output_type": "execute_result"
    }
   ],
   "source": [
    "# ' ' .join(list)를 사용하면 리스트를 공백 문자열을 연결할 수 있다\n",
    "# 리스트로 분리된 문자열을 다시 연결\n",
    "''.join(address_list)\n",
    "\n",
    "### 사이에 스페이스바, _, 등등여러개를 넣어서 붗일 수 있다."
   ]
  },
  {
   "cell_type": "code",
   "execution_count": 49,
   "id": "e5f1e938-e606-4c97-a709-7985cdd0030e",
   "metadata": {},
   "outputs": [
    {
     "data": {
      "text/plain": [
       "['경기도', '성남시', '분당구', '불정로', '6', 'NAVER', '그린팩토리', '16층']"
      ]
     },
     "execution_count": 49,
     "metadata": {},
     "output_type": "execute_result"
    }
   ],
   "source": [
    "address_list"
   ]
  },
  {
   "cell_type": "code",
   "execution_count": 50,
   "id": "781297fb-e9eb-40f2-a139-26c9dec37e7c",
   "metadata": {},
   "outputs": [
    {
     "data": {
      "text/plain": [
       "True"
      ]
     },
     "execution_count": 50,
     "metadata": {},
     "output_type": "execute_result"
    }
   ],
   "source": [
    "# in을 사용하게 되면 리스트에 해당 데이터를 포함하고 있는지 여부 확인 가능\n",
    "# '경기'가 리스트에 포함되는지 보자\n",
    "'경기도' in address_list"
   ]
  },
  {
   "cell_type": "code",
   "execution_count": null,
   "id": "ea9870e6-223d-43ee-90f3-6a63261bf1ff",
   "metadata": {},
   "outputs": [],
   "source": [
    "# in 을 사용하게 되면 리스트에 해당 데이터를 포함하고 있는지 여부 확인 가능\n",
    "# '분당구'가 리스트에 포함?\n",
    "\n"
   ]
  }
 ],
 "metadata": {
  "kernelspec": {
   "display_name": "Python 3 (ipykernel)",
   "language": "python",
   "name": "python3"
  },
  "language_info": {
   "codemirror_mode": {
    "name": "ipython",
    "version": 3
   },
   "file_extension": ".py",
   "mimetype": "text/x-python",
   "name": "python",
   "nbconvert_exporter": "python",
   "pygments_lexer": "ipython3",
   "version": "3.11.8"
  }
 },
 "nbformat": 4,
 "nbformat_minor": 5
}
